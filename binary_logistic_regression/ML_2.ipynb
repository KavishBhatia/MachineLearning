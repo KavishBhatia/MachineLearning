{
 "cells": [
  {
   "cell_type": "code",
   "execution_count": 1,
   "metadata": {},
   "outputs": [],
   "source": [
    "import numpy as np\n",
    "import matplotlib.pyplot as plt\n",
    "import math\n",
    "import random\n",
    "import pandas as pd"
   ]
  },
  {
   "cell_type": "code",
   "execution_count": 2,
   "metadata": {},
   "outputs": [],
   "source": [
    "df = pd.read_csv('data.txt', sep=' ', header=None)"
   ]
  },
  {
   "cell_type": "code",
   "execution_count": 3,
   "metadata": {},
   "outputs": [
    {
     "name": "stdout",
     "output_type": "stream",
     "text": [
      "      0      1  2\n",
      "0  1.30 -0.540  1\n",
      "1 -2.30 -2.500  1\n",
      "2 -0.37 -0.047  1\n",
      "3  0.49  0.790  1\n",
      "4  1.00  0.950  1\n"
     ]
    }
   ],
   "source": [
    "print(df.head())"
   ]
  },
  {
   "cell_type": "code",
   "execution_count": 4,
   "metadata": {},
   "outputs": [],
   "source": [
    "#converting pandas dataframe to array\n",
    "X = df.values"
   ]
  },
  {
   "cell_type": "code",
   "execution_count": 5,
   "metadata": {},
   "outputs": [],
   "source": [
    "#taking 3rd column as labels\n",
    "labels = X.T[2]"
   ]
  },
  {
   "cell_type": "code",
   "execution_count": 6,
   "metadata": {},
   "outputs": [],
   "source": [
    "#trimming X with last column and keeping 1st and 2nd\n",
    "X = X[:,[0,1]]"
   ]
  },
  {
   "cell_type": "code",
   "execution_count": 7,
   "metadata": {},
   "outputs": [],
   "source": [
    "def gen_thetas():\n",
    "    #generating 3 thetas\n",
    "    poly = np.random.uniform(-0.01,0.01, 3)\n",
    "    return poly"
   ]
  },
  {
   "cell_type": "code",
   "execution_count": 22,
   "metadata": {},
   "outputs": [],
   "source": [
    "#learning rate\n",
    "alpha = 0.01\n",
    "\n",
    "#dividing dataframe to separate 0's and 1's \n",
    "df_new1 = df.head(50)\n",
    "df_new2 = df.tail(50)"
   ]
  },
  {
   "cell_type": "code",
   "execution_count": 9,
   "metadata": {},
   "outputs": [
    {
     "data": {
      "image/png": "[encoded data removed]",
      "text/plain": [
       "<Figure size 576x432 with 1 Axes>"
      ]
     },
     "metadata": {
      "needs_background": "light"
     },
     "output_type": "display_data"
    }
   ],
   "source": [
    "#plotting data points\n",
    "fig = plt.figure(figsize=(8,6))\n",
    "ax = fig.add_subplot(1,1,1)\n",
    "ax.scatter(df_new1[0],df_new1[1], label = '1')\n",
    "\n",
    "plt.scatter(df_new2[0],df_new2[1], label = '0')\n",
    "\n",
    "plt.legend()\n",
    "plt.show()\n",
    "\n"
   ]
  },
  {
   "cell_type": "code",
   "execution_count": 10,
   "metadata": {},
   "outputs": [],
   "source": [
    "# get initial thetas\n",
    "thetas = gen_thetas()"
   ]
  },
  {
   "cell_type": "code",
   "execution_count": 11,
   "metadata": {},
   "outputs": [
    {
     "data": {
      "text/plain": [
       "array([ 0.00780814,  0.00441117, -0.00360915])"
      ]
     },
     "execution_count": 11,
     "metadata": {},
     "output_type": "execute_result"
    }
   ],
   "source": [
    "thetas"
   ]
  },
  {
   "cell_type": "code",
   "execution_count": 12,
   "metadata": {},
   "outputs": [],
   "source": [
    "def model(thetas, x1, x2):\n",
    "    return thetas[0] + thetas[1]*x1 + thetas[2]*x2\n",
    "\n",
    "def prediction(thetas, x1): #x1 is list here\n",
    "    y_predicted = []\n",
    "    for i in range(len(x1)):\n",
    "        y_predicted.append((thetas[0] + thetas[1]*x1[i]) * (-1/thetas[2]))\n",
    "    return y_predicted"
   ]
  },
  {
   "cell_type": "code",
   "execution_count": 13,
   "metadata": {},
   "outputs": [],
   "source": [
    "def sigmoid(x):\n",
    "    return 1. /(1. + math.exp(-x))"
   ]
  },
  {
   "cell_type": "code",
   "execution_count": 14,
   "metadata": {},
   "outputs": [],
   "source": [
    "#initial prediction\n",
    "y_init = prediction(thetas,X.T[0])"
   ]
  },
  {
   "cell_type": "code",
   "execution_count": 16,
   "metadata": {
    "scrolled": true
   },
   "outputs": [
    {
     "data": {
      "image/png": "[encoded data removed]",
      "text/plain": [
       "<Figure size 576x432 with 1 Axes>"
      ]
     },
     "metadata": {
      "needs_background": "light"
     },
     "output_type": "display_data"
    }
   ],
   "source": [
    "#plotting initial line\n",
    "fig = plt.figure(figsize=(8,6))\n",
    "ax = fig.add_subplot(1,1,1)\n",
    "ax.scatter(df_new1[0],df_new1[1], label = '1')\n",
    "\n",
    "plt.scatter(df_new2[0],df_new2[1], label = '0')\n",
    "\n",
    "plt.plot(X.T[0],y_init,'g', label = 'model line')\n",
    "\n",
    "plt.legend()\n",
    "plt.show()\n"
   ]
  },
  {
   "cell_type": "code",
   "execution_count": 17,
   "metadata": {},
   "outputs": [],
   "source": [
    "def sgd(x1, x2, alpha, thetas, epochs=5000):\n",
    "    \n",
    "    for k in range(epochs):        \n",
    "        for i in range(len(x1)):\n",
    "            z = model(thetas, x1[i], x2[i])\n",
    "            \n",
    "            gradient  = labels[i] - sigmoid(z)\n",
    "            thetas[0] = thetas[0] + alpha * gradient\n",
    "            thetas[1] = thetas[1] + alpha * gradient * x1[i]\n",
    "            thetas[2] = thetas[2] + alpha * gradient * x2[i]\n",
    "            \n",
    "    return thetas\n",
    "            "
   ]
  },
  {
   "cell_type": "code",
   "execution_count": 23,
   "metadata": {},
   "outputs": [],
   "source": [
    "#getting final thetas\n",
    "t = sgd(X.T[0],X.T[1],alpha, thetas)"
   ]
  },
  {
   "cell_type": "code",
   "execution_count": 26,
   "metadata": {},
   "outputs": [
    {
     "data": {
      "text/plain": [
       "array([23.18941305, -3.99543127,  9.11136289])"
      ]
     },
     "execution_count": 26,
     "metadata": {},
     "output_type": "execute_result"
    }
   ],
   "source": [
    "t"
   ]
  },
  {
   "cell_type": "code",
   "execution_count": 24,
   "metadata": {},
   "outputs": [],
   "source": [
    "#calculating final values of x2 after getting final thetas\n",
    "y_new = prediction(t,X.T[0])"
   ]
  },
  {
   "cell_type": "code",
   "execution_count": 25,
   "metadata": {},
   "outputs": [
    {
     "data": {
      "image/png": "[encoded data removed]",
      "text/plain": [
       "<Figure size 720x576 with 1 Axes>"
      ]
     },
     "metadata": {
      "needs_background": "light"
     },
     "output_type": "display_data"
    }
   ],
   "source": [
    "#final regression/ classification line\n",
    "fig = plt.figure(figsize=(10,8))\n",
    "ax = fig.add_subplot(1,1,1)\n",
    "ax.scatter(df_new1[0],df_new1[1], label = '1')\n",
    "\n",
    "plt.scatter(df_new2[0],df_new2[1], label = '0')\n",
    "\n",
    "plt.plot(X.T[0],y_init,'g', label = 'initial model line')\n",
    "plt.plot(X.T[0],y_new,'black', label = 'final model line')\n",
    "\n",
    "plt.legend()\n",
    "plt.show()\n"
   ]
  }
 ],
 "metadata": {
  "kernelspec": {
   "display_name": "Python 3",
   "language": "python",
   "name": "python3"
  },
  "language_info": {
   "codemirror_mode": {
    "name": "ipython",
    "version": 3
   },
   "file_extension": ".py",
   "mimetype": "text/x-python",
   "name": "python",
   "nbconvert_exporter": "python",
   "pygments_lexer": "ipython3",
   "version": "3.6.8"
  }
 },
 "nbformat": 4,
 "nbformat_minor": 2
}
