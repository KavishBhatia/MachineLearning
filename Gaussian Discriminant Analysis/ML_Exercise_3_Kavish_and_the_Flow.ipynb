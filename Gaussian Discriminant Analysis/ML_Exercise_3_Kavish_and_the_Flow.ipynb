{
 "cells": [
  {
   "cell_type": "markdown",
   "metadata": {
    "colab_type": "text",
    "id": "X-lotbAklSkS"
   },
   "source": [
    "## **Gaussian Discriminant Analysis - ML Exercise 3 - Kavish and Florian**"
   ]
  },
  {
   "cell_type": "code",
   "execution_count": 201,
   "metadata": {
    "colab": {},
    "colab_type": "code",
    "id": "b55YVPSYbodP"
   },
   "outputs": [],
   "source": [
    "import numpy as np\n",
    "import matplotlib.pyplot as plt\n",
    "from PIL import Image\n",
    "import imageio"
   ]
  },
  {
   "cell_type": "code",
   "execution_count": 0,
   "metadata": {
    "colab": {
     "base_uri": "https://localhost:8080/",
     "height": 134
    },
    "colab_type": "code",
    "id": "RCjvSSC1fp1K",
    "outputId": "ba6eb3c2-70ba-42e1-de2f-056bab5e320e"
   },
   "outputs": [
    {
     "name": "stdout",
     "output_type": "stream",
     "text": [
      "Cloning into 'MachineLearning'...\n",
      "remote: Enumerating objects: 47, done.\u001b[K\n",
      "remote: Counting objects: 100% (47/47), done.\u001b[K\n",
      "remote: Compressing objects: 100% (47/47), done.\u001b[K\n",
      "remote: Total 134 (delta 21), reused 0 (delta 0), pack-reused 87\u001b[K\n",
      "Receiving objects: 100% (134/134), 590.92 KiB | 17.38 MiB/s, done.\n",
      "Resolving deltas: 100% (25/25), done.\n"
     ]
    }
   ],
   "source": [
    "!git clone https://github.com/KavishBhatia/MachineLearning.git"
   ]
  },
  {
   "cell_type": "code",
   "execution_count": 0,
   "metadata": {
    "colab": {},
    "colab_type": "code",
    "id": "E07VFTdZcd8s"
   },
   "outputs": [],
   "source": [
    "image = Image.open(\"MachineLearning/negatives/n01.png\")\n"
   ]
  },
  {
   "cell_type": "markdown",
   "metadata": {
    "colab_type": "text",
    "id": "5n-o74jBZS8Q"
   },
   "source": [
    "Compute the feature probability distributions for the positive(p) and negative(n) group.\n",
    "Features:\n",
    "    1. Mean of all (R)GB values\n",
    "    2. Mean of all R(G)B values\n",
    "    3. Mean of all RG(B) values\n",
    "    4. Highest cumulative RBG value of 2x2 Filter \n",
    "    \n",
    "Plot distributions for p and n and check if they are differentiable.\n",
    "\n",
    "Sum up relative probability for an image to be in p or n according to all feature probabilities.\n"
   ]
  },
  {
   "cell_type": "code",
   "execution_count": 202,
   "metadata": {
    "colab": {},
    "colab_type": "code",
    "id": "d2JQbe4vemJA"
   },
   "outputs": [],
   "source": [
    "category = [\"positives\", \"negatives\"]\n",
    "# ml = \"MachineLearning/\"\n",
    "\n",
    "def getPositiveImages():\n",
    "  image_path = []\n",
    "  for i in range(1,31):\n",
    "    if i < 10:\n",
    "      img_name = \"/p0\" + str(i)\n",
    "    else:\n",
    "      img_name = \"/p\" +str(i)    \n",
    "    path = category[0] + img_name + \".png\"\n",
    "    image_path.append(path)\n",
    "  return image_path  \n",
    "\n",
    "def getNegativeImages():\n",
    "  image_path = []\n",
    "  for i in range(1,31):\n",
    "    if i < 10:\n",
    "      img_name = \"/n0\" + str(i)\n",
    "    else:\n",
    "      img_name = \"/n\" +str(i)    \n",
    "    path = category[1] + img_name + \".png\"\n",
    "    image_path.append(path)\n",
    "  return image_path\n",
    "  \n",
    "  "
   ]
  },
  {
   "cell_type": "code",
   "execution_count": 203,
   "metadata": {
    "colab": {},
    "colab_type": "code",
    "id": "oAG-As6ssAKi"
   },
   "outputs": [],
   "source": [
    "  picturePathListPositive = getPositiveImages()\n",
    "  picturePathListNegative = getNegativeImages()"
   ]
  },
  {
   "cell_type": "code",
   "execution_count": 204,
   "metadata": {
    "colab": {},
    "colab_type": "code",
    "id": "L7exlKujo2Re"
   },
   "outputs": [],
   "source": [
    "def getPixelValues(imagepath):\n",
    "  im = imageio.imread(imagepath)\n",
    "  return im"
   ]
  },
  {
   "cell_type": "code",
   "execution_count": 205,
   "metadata": {
    "colab": {},
    "colab_type": "code",
    "id": "_w0kgQQihAfA"
   },
   "outputs": [],
   "source": [
    "def computeMeanForAllColours(imagepath):\n",
    "  pixValues = getPixelValues(imagepath)\n",
    "  meanPixValues = np.mean(pixValues)\n",
    "  return meanPixValues\n",
    "\n",
    "def computeMeanSingleColour(colour, imagepath):\n",
    "  pixValues = getPixelValues(imagepath)\n",
    "  meanPixValues = np.mean(pixValues[:,:,colour])\n",
    "  return meanPixValues"
   ]
  },
  {
   "cell_type": "code",
   "execution_count": 206,
   "metadata": {
    "colab": {},
    "colab_type": "code",
    "id": "faeMgfzQxtCy"
   },
   "outputs": [],
   "source": [
    "red = 0\n",
    "green = 1\n",
    "blue = 2\n",
    "m = 60 # total number of pos and neg images\n",
    "n = 2 #no of features"
   ]
  },
  {
   "cell_type": "code",
   "execution_count": 208,
   "metadata": {
    "colab": {},
    "colab_type": "code",
    "id": "sifVnAHDk-tU"
   },
   "outputs": [],
   "source": [
    "def meanAllValues():\n",
    "  \n",
    "  listOfPosMeans = []\n",
    "  listOfNegMeans = []\n",
    "  listOfPosRedMeans = [] # pos red means\n",
    "  listOfPosGreenMeans = [] # pos green means\n",
    "  listOfPosBlueMeans = [] # pos blue means\n",
    "  listOfNegRedMeans = [] # neg red means\n",
    "  listOfNegGreenMeans = [] # neg green means\n",
    "  listOfNegBlueMeans = [] # neg blue means\n",
    "  listOfPosFilterMeans = [] # Filter means\n",
    "  listOfNegFilterMeans = [] # Filter means\n",
    "  \n",
    "  for i in picturePathListPositive:\n",
    "    listOfPosMeans.append(computeMeanForAllColours(i))\n",
    "    listOfPosRedMeans.append(computeMeanSingleColour(red,i))\n",
    "    listOfPosGreenMeans.append(computeMeanSingleColour(green,i))\n",
    "    listOfPosBlueMeans.append(computeMeanSingleColour(blue,i))\n",
    "    listOfPosFilterMeans.append(filterMaxMean(i))\n",
    "   \n",
    "  for i in picturePathListNegative:\n",
    "    listOfNegMeans.append(computeMeanForAllColours(i))\n",
    "    listOfNegRedMeans.append(computeMeanSingleColour(red,i))\n",
    "    listOfNegGreenMeans.append(computeMeanSingleColour(green,i))\n",
    "    listOfNegBlueMeans.append(computeMeanSingleColour(blue,i))\n",
    "    listOfNegFilterMeans.append(filterMaxMean(i))\n",
    "    \n",
    "  bins = np.linspace(100, 200, 25)\n",
    "  plt.hist(listOfPosMeans, bins, alpha=0.5, label='positive')\n",
    "  plt.hist(listOfNegMeans, bins, alpha=0.5, label='negative')\n",
    "  plt.legend()\n",
    "  plt.show()\n",
    "\n",
    "  bins = np.linspace(100, 200, 25)\n",
    "  plt.hist(listOfPosRedMeans, bins, alpha=0.5, label='positive red')\n",
    "  plt.hist(listOfNegRedMeans, bins, alpha=0.5, label='negative red')\n",
    "  plt.legend()\n",
    "  plt.show()\n",
    "    \n",
    "  bins = np.linspace(100, 200, 25)\n",
    "  plt.hist(listOfPosGreenMeans, bins, alpha=0.5, label='positive green')\n",
    "  plt.hist(listOfNegGreenMeans, bins, alpha=0.5, label='negative green')\n",
    "  plt.legend()\n",
    "  plt.show()\n",
    "\n",
    "  bins = np.linspace(100, 200, 25)\n",
    "  plt.hist(listOfPosBlueMeans, bins, alpha=0.5, label='positive blue')\n",
    "  plt.hist(listOfNegBlueMeans, bins, alpha=0.5, label='negative blue')\n",
    "  plt.legend()\n",
    "  plt.show()\n",
    "  \n",
    "  bins = np.linspace(100, 200, 25)\n",
    "  plt.hist(listOfPosFilterMeans, bins, alpha=0.5, label='positive filter')\n",
    "  plt.hist(listOfNegFilterMeans, bins, alpha=0.5, label='negative filter')\n",
    "  plt.legend()\n",
    "  plt.show()"
   ]
  },
  {
   "cell_type": "markdown",
   "metadata": {
    "colab_type": "text",
    "id": "DeEo5CzImtHy"
   },
   "source": []
  },
  {
   "cell_type": "code",
   "execution_count": 209,
   "metadata": {
    "colab": {},
    "colab_type": "code",
    "id": "7ctrYeScnu0G"
   },
   "outputs": [],
   "source": [
    "def filterMaxMean(image):\n",
    "  img = Image.open(image)\n",
    "  members = [(0,0)] * 4\n",
    "  filteredMeanMax = 255\n",
    "  for i in range(1,23):\n",
    "    for j in range(1,23):\n",
    "        members[0] = img.getpixel((i-1,j-1))\n",
    "        members[1] = img.getpixel((i-1,j))\n",
    "        members[2] = img.getpixel((i-1,j+1))\n",
    "        members[3] = img.getpixel((i,j-1))\n",
    "        tempFilteredMeanMax = np.mean(members)\n",
    "        if tempFilteredMeanMax < filteredMeanMax:\n",
    "          filteredMeanMax = tempFilteredMeanMax\n",
    "  return (filteredMeanMax - 255)*(-1)\n"
   ]
  },
  {
   "cell_type": "code",
   "execution_count": 0,
   "metadata": {
    "colab": {
     "base_uri": "https://localhost:8080/",
     "height": 34
    },
    "colab_type": "code",
    "id": "S6B1S9moWQOC",
    "outputId": "9da25d88-00aa-4446-d3fe-a3ed591a04fb"
   },
   "outputs": [
    {
     "data": {
      "text/plain": [
       "143.08333333333331"
      ]
     },
     "execution_count": 63,
     "metadata": {
      "tags": []
     },
     "output_type": "execute_result"
    }
   ],
   "source": [
    "filterMaxMean(\"MachineLearning/negatives/n01.png\")"
   ]
  },
  {
   "cell_type": "code",
   "execution_count": 0,
   "metadata": {
    "colab": {
     "base_uri": "https://localhost:8080/",
     "height": 34
    },
    "colab_type": "code",
    "id": "gWFlFCSnWZdu",
    "outputId": "b454ff08-9646-421b-b7a3-0ec9d3821c01"
   },
   "outputs": [
    {
     "data": {
      "text/plain": [
       "142.58333333333331"
      ]
     },
     "execution_count": 64,
     "metadata": {
      "tags": []
     },
     "output_type": "execute_result"
    }
   ],
   "source": [
    "filterMaxMean(\"MachineLearning/positives/p01.png\")"
   ]
  },
  {
   "cell_type": "code",
   "execution_count": 0,
   "metadata": {
    "colab": {
     "base_uri": "https://localhost:8080/",
     "height": 1277
    },
    "colab_type": "code",
    "id": "Kg2f12R7xN2B",
    "outputId": "8a5441a9-beb6-4065-bbab-92a4635e04b2"
   },
   "outputs": [
    {
     "data": {
      "image/png": "[encoded data removed]",
      "text/plain": [
       "<Figure size 432x288 with 1 Axes>"
      ]
     },
     "metadata": {
      "tags": []
     },
     "output_type": "display_data"
    },
    {
     "data": {
      "image/png": "[encoded data removed]",
      "text/plain": [
       "<Figure size 432x288 with 1 Axes>"
      ]
     },
     "metadata": {
      "tags": []
     },
     "output_type": "display_data"
    },
    {
     "data": {
      "image/png": "[encoded data removed]",
      "text/plain": [
       "<Figure size 432x288 with 1 Axes>"
      ]
     },
     "metadata": {
      "tags": []
     },
     "output_type": "display_data"
    },
    {
     "data": {
      "image/png": "[encoded data removed]",
      "text/plain": [
       "<Figure size 432x288 with 1 Axes>"
      ]
     },
     "metadata": {
      "tags": []
     },
     "output_type": "display_data"
    },
    {
     "data": {
      "image/png": "[encoded data removed]",
      "text/plain": [
       "<Figure size 432x288 with 1 Axes>"
      ]
     },
     "metadata": {
      "tags": []
     },
     "output_type": "display_data"
    }
   ],
   "source": [
    "meanAllValues()"
   ]
  },
  {
   "cell_type": "markdown",
   "metadata": {
    "colab_type": "text",
    "id": "EgaU3Y7AnxW1"
   },
   "source": [
    "All Features except for mean green pixel values seem to allow for decent destinction between the classes. G"
   ]
  },
  {
   "cell_type": "code",
   "execution_count": 210,
   "metadata": {
    "colab": {},
    "colab_type": "code",
    "id": "lTyV3w06xZ2z"
   },
   "outputs": [],
   "source": [
    "def getFeaturesOneImage(imagepath):\n",
    "    X = []\n",
    "    X.append(filterMaxMean(imagepath))\n",
    "#     X.append(computeMeanForAllColours(imagepath))\n",
    "#     X.append(computeMeanSingleColour(red, imagepath))\n",
    "    X.append(computeMeanSingleColour(blue, imagepath))\n",
    "    X = np.asarray(X).reshape(1,n)\n",
    "    return X"
   ]
  },
  {
   "cell_type": "code",
   "execution_count": 211,
   "metadata": {
    "colab": {},
    "colab_type": "code",
    "id": "tdEABEUjwCt4"
   },
   "outputs": [],
   "source": [
    "def computeParameters():\n",
    "    flag = 0\n",
    "    meanMaxPos = []\n",
    "    meanMaxNeg = []\n",
    "    meanAllColorNeg = []\n",
    "    meanAllColorPos = []\n",
    "    meanRedNeg = []\n",
    "    meanRedPos = []\n",
    "    meanBlueNeg = []\n",
    "    meanBluePos = []\n",
    "    mu0 = []\n",
    "    mu1 = []\n",
    "    sig = []\n",
    "    \n",
    "    for i in range(60):\n",
    "        if i >= 30:\n",
    "            flag = 1\n",
    "        if flag == 0:\n",
    "            meanMaxNeg.append(filterMaxMean(picturePathListNegative[i]))\n",
    "#             meanAllColorNeg.append(computeMeanForAllColours(picturePathListNegative[i]))\n",
    "#             meanRedNeg.append(computeMeanSingleColour(red, picturePathListNegative[i]))\n",
    "            meanBlueNeg.append(computeMeanSingleColour(blue, picturePathListNegative[i]))\n",
    "        elif flag == 1:\n",
    "            i = i - 30\n",
    "            meanMaxPos.append(filterMaxMean(picturePathListPositive[i]))\n",
    "#             meanAllColorPos.append(computeMeanForAllColours(picturePathListPositive[i]))\n",
    "#             meanRedPos.append(computeMeanSingleColour(red, picturePathListPositive[i]))\n",
    "            meanBluePos.append(computeMeanSingleColour(blue, picturePathListPositive[i]))\n",
    "    \n",
    "    mu0.append(np.mean(meanMaxNeg))\n",
    "#     mu0.append(np.mean(meanAllColorNeg))\n",
    "#     mu0.append(np.mean(meanRedNeg))\n",
    "    mu0.append(np.mean(meanBlueNeg))\n",
    "    \n",
    "    mu1.append(np.mean(meanMaxPos))\n",
    "#     mu1.append(np.mean(meanAllColorPos))\n",
    "#     mu1.append(np.mean(meanRedPos))\n",
    "    mu1.append(np.mean(meanBluePos))\n",
    "    \n",
    "    mu0 = np.asarray(mu0).reshape(1,n)\n",
    "    mu1 = np.asarray(mu1).reshape(1,n)\n",
    "    \n",
    "    SIG = np.zeros((n,n)) #dimensions\n",
    "    for i in picturePathListNegative:\n",
    "        X = getFeaturesOneImage(i)\n",
    "        X = np.asarray(X).reshape(1,n)\n",
    "        sub = np.subtract(X,mu0)\n",
    "        SIG += np.dot(sub.T,sub)\n",
    "    \n",
    "    for i in picturePathListPositive:\n",
    "        X = getFeaturesOneImage(i)\n",
    "        X = np.asarray(X).reshape(1,n)\n",
    "        sub = np.subtract(X,mu1)\n",
    "        SIG += np.dot(sub.T,sub)\n",
    "    \n",
    "    #print(SIG*(1/m))\n",
    "    return mu0,mu1,SIG*(1/m)\n",
    "    "
   ]
  },
  {
   "cell_type": "code",
   "execution_count": 218,
   "metadata": {
    "colab": {},
    "colab_type": "code",
    "id": "j1a3B3_KxPRB"
   },
   "outputs": [],
   "source": [
    "def gda():\n",
    "  negVecMean, posVecMean, sigma = computeParameters()\n",
    "  phi=0.5\n",
    "  dimensions = n #number of features\n",
    "  \n",
    "  picturePathList = []\n",
    "  picturePathList = picturePathListNegative + picturePathListPositive\n",
    "  \n",
    "  classifiedList = []\n",
    "   \n",
    "  denominator = (2 * np.pi)**(dimensions/2) * np.sqrt(np.linalg.det(sigma))\n",
    "  \n",
    "  for i in picturePathList:\n",
    "    vecImg = []\n",
    "    vecImg = getFeaturesOneImage(i)\n",
    "    vector = vecImg - negVecMean\n",
    "    \n",
    "    probClass0 = np.exp(-0.5 * (vecImg - negVecMean) @ (np.linalg.inv(sigma) @ (vecImg - negVecMean).T)) / denominator\n",
    "    probClass1 = np.exp(-0.5 * (vecImg - posVecMean) @ (np.linalg.inv(sigma) @ (vecImg - posVecMean).T)) / denominator\n",
    "    \n",
    "\n",
    "    if probClass0 > probClass1:\n",
    "      classifiedList.append('0')\n",
    "    else:\n",
    "      classifiedList.append('1')\n",
    "  \n",
    "  \n",
    "  return classifiedList"
   ]
  },
  {
   "cell_type": "code",
   "execution_count": 217,
   "metadata": {
    "colab": {
     "base_uri": "https://localhost:8080/",
     "height": 3058
    },
    "colab_type": "code",
    "id": "Ji1rP1X1B1iM",
    "outputId": "36bf2838-d0af-4a94-e268-8075c6145730"
   },
   "outputs": [
    {
     "data": {
      "text/plain": [
       "['0',\n",
       " '0',\n",
       " '0',\n",
       " '0',\n",
       " '0',\n",
       " '1',\n",
       " '0',\n",
       " '0',\n",
       " '0',\n",
       " '0',\n",
       " '0',\n",
       " '0',\n",
       " '0',\n",
       " '0',\n",
       " '0',\n",
       " '1',\n",
       " '0',\n",
       " '0',\n",
       " '0',\n",
       " '0',\n",
       " '0',\n",
       " '0',\n",
       " '0',\n",
       " '0',\n",
       " '0',\n",
       " '0',\n",
       " '0',\n",
       " '0',\n",
       " '0',\n",
       " '1',\n",
       " '1',\n",
       " '1',\n",
       " '1',\n",
       " '1',\n",
       " '1',\n",
       " '1',\n",
       " '1',\n",
       " '1',\n",
       " '1',\n",
       " '1',\n",
       " '1',\n",
       " '1',\n",
       " '1',\n",
       " '1',\n",
       " '1',\n",
       " '1',\n",
       " '1',\n",
       " '1',\n",
       " '1',\n",
       " '1',\n",
       " '1',\n",
       " '1',\n",
       " '1',\n",
       " '1',\n",
       " '1',\n",
       " '1',\n",
       " '1',\n",
       " '1',\n",
       " '1',\n",
       " '1']"
      ]
     },
     "execution_count": 217,
     "metadata": {},
     "output_type": "execute_result"
    }
   ],
   "source": [
    "classifierList = gda()\n",
    "classifierList"
   ]
  },
  {
   "cell_type": "code",
   "execution_count": null,
   "metadata": {},
   "outputs": [],
   "source": []
  }
 ],
 "metadata": {
  "colab": {
   "collapsed_sections": [],
   "name": "ML Exercise 3 Kavish and the Flow.ipynb",
   "provenance": [],
   "version": "0.3.2"
  },
  "kernelspec": {
   "display_name": "Python 3",
   "language": "python",
   "name": "python3"
  },
  "language_info": {
   "codemirror_mode": {
    "name": "ipython",
    "version": 3
   },
   "file_extension": ".py",
   "mimetype": "text/x-python",
   "name": "python",
   "nbconvert_exporter": "python",
   "pygments_lexer": "ipython3",
   "version": "3.6.8"
  }
 },
 "nbformat": 4,
 "nbformat_minor": 1
}
